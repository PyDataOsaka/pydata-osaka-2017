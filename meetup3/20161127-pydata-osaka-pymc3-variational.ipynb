{
 "cells": [
  {
   "cell_type": "code",
   "execution_count": 1,
   "metadata": {
    "collapsed": false,
    "nbpresent": {
     "id": "3794abab-890e-42b3-9485-bada9e3666e1"
    },
    "slideshow": {
     "slide_type": "skip"
    }
   },
   "outputs": [
    {
     "data": {
      "application/javascript": [
       "IPython.notebook.set_autosave_interval(0)"
      ]
     },
     "metadata": {},
     "output_type": "display_data"
    },
    {
     "name": "stdout",
     "output_type": "stream",
     "text": [
      "Autosave disabled\n"
     ]
    }
   ],
   "source": [
    "%autosave 0\n",
    "%matplotlib inline\n",
    "\n",
    "import os, sys\n",
    "sys.path.insert(0, os.path.expanduser('~/git/github/pymc-devs/pymc3'))\n",
    "\n",
    "import matplotlib\n",
    "import matplotlib.pyplot as plt\n",
    "from matplotlib import rc\n",
    "import daft\n",
    "import pymc3 as pm\n",
    "import numpy as np\n",
    "import seaborn as sns\n",
    "\n",
    "from IPython.display import display\n",
    "from IPython.display import HTML\n",
    "import IPython.core.display as display"
   ]
  },
  {
   "cell_type": "markdown",
   "metadata": {
    "nbpresent": {
     "id": "e1441dda-dbed-4e3f-bebc-6578a31e0aa8"
    },
    "slideshow": {
     "slide_type": "slide"
    }
   },
   "source": [
    "<br />\n",
    "\n",
    "<div style=\"text-align: center;\">\n",
    "<font size=\"7\"><b>Stein variational gradient descent</b></font> <br /> <br /> <br />\n",
    "<font size=\"7\"><b>(Liu and Wang, 2016)</b></font>\n",
    "<br />\n",
    "<br />\n",
    "<br />\n",
    "<br />\n",
    "<div style=\"text-align: right;\">\n",
    "<font size=\"6\">Taku Yoshioka</font>\n",
    "</div>\n",
    "\n",
    "<br />"
   ]
  },
  {
   "cell_type": "markdown",
   "metadata": {
    "slideshow": {
     "slide_type": "slide"
    }
   },
   "source": [
    "* Today's slide will be uploaded: https://github.com/PyDataOsaka/pydata-osaka-2017"
   ]
  },
  {
   "cell_type": "markdown",
   "metadata": {
    "nbpresent": {
     "id": "130845fb-0440-4564-9512-0fe781d72fc2"
    },
    "slideshow": {
     "slide_type": "slide"
    }
   },
   "source": [
    "# Agenda\n",
    "* Variational Bayesian inference\n",
    "* Construction of variational posterior\n",
    "* Algorithm of SVGD\n",
    "* Theory of SVGD\n",
    "* Examples"
   ]
  },
  {
   "cell_type": "markdown",
   "metadata": {
    "slideshow": {
     "slide_type": "slide"
    }
   },
   "source": [
    "# Example of Bayesian inference\n",
    "<div align=\"center\">\n",
    "<img class=\"stretch\" src=\"http://www.cns.atr.jp/cbi/wp-content/uploads/2010/07/hierarchical_bayes_estimation.png\" width=\"50%\" height=\"50%\"/>\n",
    "</div>"
   ]
  },
  {
   "cell_type": "markdown",
   "metadata": {
    "nbpresent": {
     "id": "f8891f4b-0af7-4329-96e4-84431b3462fd"
    },
    "slideshow": {
     "slide_type": "slide"
    }
   },
   "source": [
    "# Variational Bayesian inference\n",
    "* Approximate $p(\\mathbf{z}|\\mathbf{x})$ by *variational posterior* $q(\\mathbf{z})$\n",
    "* Maximize *evidence lower bound (ELBO)* ${\\cal L}(q)$ w.r.t. $q$ minimizes $KL[q(\\mathbf{z})||p(\\mathbf{z}|\\mathbf{x})]$\n",
    "\n",
    "\\begin{eqnarray}\n",
    "\\cal{L}(q) & = & \\mathbb{E}_{q(\\mathbf{z})}\\left[\\log p(\\mathbf{x},\\mathbf{z}) - \\log q(\\mathbf{z})\\right] \\\\\n",
    "           & = & \\mathbb{E}_{q(\\mathbf{z})}\\left[\\log p(\\mathbf{x}|\\mathbf{z})\\right] - KL\\left[\\log q(\\mathbf{z})||p(\\mathbf{z})\\right] \\\\\n",
    "           & = & \\log p(\\mathbf{x}) - KL[q(\\mathbf{z})||p(\\mathbf{z}|\\mathbf{x})]\n",
    "\\end{eqnarray}"
   ]
  },
  {
   "cell_type": "markdown",
   "metadata": {
    "slideshow": {
     "slide_type": "slide"
    }
   },
   "source": [
    "# Construction of variational posterior\n",
    "\n",
    "* Accurate models need more computation\n",
    "* Tractable models underfit desired distribution\n",
    "* The most simplest form: Gaussian mean-field $q(\\mathbf{z})=N(\\mathbf{\\mu},\\mathbf{I})$\n",
    "<div align=\"center\">\n",
    "<img class=\"stretch\" src=\"mf.png\" width=\"50%\" height=\"50%\"/>\n",
    "</div>\n",
    "<div align=\"right\">\n",
    "[Kucukelbir et al., 2016]\n",
    "</div>"
   ]
  },
  {
   "cell_type": "markdown",
   "metadata": {
    "nbpresent": {
     "id": "d5b0a7d9-a262-4d94-9de9-b2afa6b1c8a4"
    },
    "slideshow": {
     "slide_type": "slide"
    }
   },
   "source": [
    "# Two approaches for improving accuracy\n",
    "\n",
    "* Parametric transform of posterior samples with correcting density *(normalizing flows)*\n",
    "* Non-parametric tramsform of posterior function in *reproducing kernel hirbert space (RKHS)* -- Stein variational gradient descent (SVGD)\n",
    "\n",
    "    * Simple and fast\n",
    "    * No assumption on the form of $q(\\mathbf{z})$"
   ]
  },
  {
   "cell_type": "markdown",
   "metadata": {
    "collapsed": true,
    "nbpresent": {
     "id": "4ee1ca15-1044-4691-afdf-319c9da5c1eb"
    },
    "slideshow": {
     "slide_type": "slide"
    }
   },
   "source": [
    "# Algorithm of SVGD\n",
    "<div align=\"center\">\n",
    "<img class=\"stretch\" src=\"svgd-algo.png\" width=\"100%\" height=\"100%\"/>\n",
    "</div>\n",
    "* Extremely simple!"
   ]
  },
  {
   "cell_type": "markdown",
   "metadata": {
    "nbpresent": {
     "id": "92ab8f17-64b1-4dad-8ebd-57931c3027ef"
    },
    "slideshow": {
     "slide_type": "slide"
    }
   },
   "source": [
    "# Theory: smooth transforms\n",
    "* Consider smooth transforms\n",
    "\n",
    "\\begin{eqnarray}\n",
    "\\mathbf{T}(\\mathbf{z}) & = & \\mathbf{z}+\\epsilon\\phi(\\mathbf{z}) \\\\\n",
    "q_{[T]}(\\mathbf{z}) & = & q(\\mathbf{T}^{-1}(\\mathbf{z}))\n",
    "\\left|{\\rm det}(\\nabla_{z}\\mathbf{T}^{-1}(\\mathbf{z}))\\right|\n",
    "\\end{eqnarray}\n",
    "\n",
    "* ($T$ and $\\phi$ are vector functions in the dimension of $\\mathbf{z}$)\n"
   ]
  },
  {
   "cell_type": "markdown",
   "metadata": {
    "collapsed": true,
    "nbpresent": {
     "id": "918fb453-2f0b-4892-b050-8468c3c074e9"
    },
    "slideshow": {
     "slide_type": "slide"
    }
   },
   "source": [
    "### Theory: gradient of KL-divergence\n",
    "* KL-divergence wrt $\\epsilon$ is represented with *Stein operator* $\\cal{A}_{p}$:\n",
    "\n",
    "\\begin{eqnarray}\n",
    "\\nabla_{\\epsilon}KL(q_{[T]}||p) & = & -\\mathbb{E}_{q}[{\\rm trace(\\cal{A}_{p}\\phi(\\mathbf{z}))}] \\\\ \\cal{A}_{p}\\phi(\\mathbf{z}) & \\equiv & \\phi(\\mathbf{z})\\nabla_{z}\\log p(\\mathbf{z})^{T}+\\nabla_{z}\\phi(\\mathbf{z})\n",
    "\\end{eqnarray}\n",
    "\n",
    "* The key result of this study"
   ]
  },
  {
   "cell_type": "markdown",
   "metadata": {
    "slideshow": {
     "slide_type": "slide"
    }
   },
   "source": [
    "# Theory: steepest direction in RKHS\n",
    "* Restrict $\\phi(\\mathbf{z})$ in RKHS\n",
    "* Analytic solution of the steepest direction for the gradient above\n",
    "\n",
    "\\begin{eqnarray}\n",
    "\\phi_{q,p}^{*}(\\cdot) & = & {\\rm arg}\\min_{\\phi}\\nabla_{\\epsilon}KL(q_{[T]}||p) \\\\\n",
    "                  & = & \\mathbb{E}_{q}[k(\\mathbf{z},\\cdot)\\nabla_{z}\\log p(\\mathbf{z}|\\mathbf{x})+\\nabla_{z}k(\\mathbf{z},\\cdot)]\n",
    "\\end{eqnarray}\n",
    "\n",
    "* Approximating the expectation with MC results in the algo\n",
    "<div align=\"center\">\n",
    "<img class=\"stretch\" src=\"svgd-algo.png\" width=\"100%\" height=\"100%\"/>\n",
    "</div>"
   ]
  },
  {
   "cell_type": "markdown",
   "metadata": {
    "slideshow": {
     "slide_type": "slide"
    }
   },
   "source": [
    "# Examples\n",
    "* Website of SVGD http://www.cs.dartmouth.edu/%7Edartml/project.html?p=vgd"
   ]
  },
  {
   "cell_type": "markdown",
   "metadata": {
    "slideshow": {
     "slide_type": "slide"
    }
   },
   "source": [
    "# Implementation\n",
    "* PyMC3 [#1671](https://github.com/pymc-devs/pymc3/pull/1671/commits/e59f01bc761b700e8b6badc711548215cc8bf358)"
   ]
  },
  {
   "cell_type": "markdown",
   "metadata": {
    "slideshow": {
     "slide_type": "slide"
    }
   },
   "source": [
    "# (Possible) Application\n",
    "* [Autoencoding LDA](https://taku-y.github.io/notebook/20160928/lda-advi-ae.html): may have complex posterior"
   ]
  },
  {
   "cell_type": "code",
   "execution_count": null,
   "metadata": {
    "collapsed": true
   },
   "outputs": [],
   "source": []
  }
 ],
 "metadata": {
  "celltoolbar": "Slideshow",
  "hide_input": false,
  "kernelspec": {
   "display_name": "Python 3",
   "language": "python",
   "name": "python3"
  },
  "language_info": {
   "codemirror_mode": {
    "name": "ipython",
    "version": 3
   },
   "file_extension": ".py",
   "mimetype": "text/x-python",
   "name": "python",
   "nbconvert_exporter": "python",
   "pygments_lexer": "ipython3",
   "version": "3.5.2"
  },
  "nav_menu": {},
  "nbpresent": {
   "slides": {},
   "themes": {}
  },
  "toc": {
   "navigate_menu": true,
   "number_sections": false,
   "sideBar": true,
   "threshold": 6,
   "toc_cell": false,
   "toc_section_display": "block",
   "toc_window_display": true
  }
 },
 "nbformat": 4,
 "nbformat_minor": 0
}
